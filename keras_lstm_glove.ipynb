{
  "nbformat": 4,
  "nbformat_minor": 0,
  "metadata": {
    "kernelspec": {
      "display_name": "Python 3",
      "language": "python",
      "name": "python3"
    },
    "language_info": {
      "codemirror_mode": {
        "name": "ipython",
        "version": 3
      },
      "file_extension": ".py",
      "mimetype": "text/x-python",
      "name": "python",
      "nbconvert_exporter": "python",
      "pygments_lexer": "ipython3",
      "version": "3.7.6"
    },
    "colab": {
      "name": "keras lstm glove",
      "provenance": [],
      "collapsed_sections": []
    },
    "accelerator": "GPU"
  },
  "cells": [
    {
      "cell_type": "code",
      "metadata": {
        "id": "t7M2ceYof_R8",
        "colab_type": "code",
        "colab": {}
      },
      "source": [
        "from tensorflow import keras\n",
        "from keras.preprocessing.text import Tokenizer\n",
        "from keras.preprocessing.sequence import pad_sequences\n",
        "from keras.models import Sequential\n",
        "from keras.layers import Dense, Embedding, LSTM, Bidirectional\n",
        "from sklearn.model_selection import train_test_split"
      ],
      "execution_count": 1,
      "outputs": []
    },
    {
      "cell_type": "code",
      "metadata": {
        "id": "HYBAODZ3f_SH",
        "colab_type": "code",
        "colab": {}
      },
      "source": [
        "import numpy as np\n",
        "import pandas as pd\n",
        "df = pd.read_csv('imdb_labelled.txt', delimiter = '\\t', engine='python', quoting = 3)"
      ],
      "execution_count": 2,
      "outputs": []
    },
    {
      "cell_type": "code",
      "metadata": {
        "id": "wafc5jPff_SN",
        "colab_type": "code",
        "colab": {
          "base_uri": "https://localhost:8080/",
          "height": 170
        },
        "outputId": "fa1b149c-b44a-444e-804e-9b5a0f5e3185"
      },
      "source": [
        "df.info()"
      ],
      "execution_count": 3,
      "outputs": [
        {
          "output_type": "stream",
          "text": [
            "<class 'pandas.core.frame.DataFrame'>\n",
            "RangeIndex: 1000 entries, 0 to 999\n",
            "Data columns (total 2 columns):\n",
            " #   Column  Non-Null Count  Dtype \n",
            "---  ------  --------------  ----- \n",
            " 0   Review  1000 non-null   object\n",
            " 1   Status  1000 non-null   int64 \n",
            "dtypes: int64(1), object(1)\n",
            "memory usage: 15.8+ KB\n"
          ],
          "name": "stdout"
        }
      ]
    },
    {
      "cell_type": "code",
      "metadata": {
        "id": "dmN9uIZBpTq_",
        "colab_type": "code",
        "colab": {
          "base_uri": "https://localhost:8080/",
          "height": 80
        },
        "outputId": "ad3b62d9-9226-483d-e99b-c75e0f3bf714"
      },
      "source": [
        "df.sample()"
      ],
      "execution_count": 4,
      "outputs": [
        {
          "output_type": "execute_result",
          "data": {
            "text/html": [
              "<div>\n",
              "<style scoped>\n",
              "    .dataframe tbody tr th:only-of-type {\n",
              "        vertical-align: middle;\n",
              "    }\n",
              "\n",
              "    .dataframe tbody tr th {\n",
              "        vertical-align: top;\n",
              "    }\n",
              "\n",
              "    .dataframe thead th {\n",
              "        text-align: right;\n",
              "    }\n",
              "</style>\n",
              "<table border=\"1\" class=\"dataframe\">\n",
              "  <thead>\n",
              "    <tr style=\"text-align: right;\">\n",
              "      <th></th>\n",
              "      <th>Review</th>\n",
              "      <th>Status</th>\n",
              "    </tr>\n",
              "  </thead>\n",
              "  <tbody>\n",
              "    <tr>\n",
              "      <th>996</th>\n",
              "      <td>Unfortunately, any virtue in this film's produ...</td>\n",
              "      <td>0</td>\n",
              "    </tr>\n",
              "  </tbody>\n",
              "</table>\n",
              "</div>"
            ],
            "text/plain": [
              "                                                Review  Status\n",
              "996  Unfortunately, any virtue in this film's produ...       0"
            ]
          },
          "metadata": {
            "tags": []
          },
          "execution_count": 4
        }
      ]
    },
    {
      "cell_type": "code",
      "metadata": {
        "id": "RH4l8pX-f_SY",
        "colab_type": "code",
        "colab": {}
      },
      "source": [
        "X = df['Review']\n",
        "y = df['Status']"
      ],
      "execution_count": 5,
      "outputs": []
    },
    {
      "cell_type": "code",
      "metadata": {
        "id": "YloCfrNqpFsS",
        "colab_type": "code",
        "colab": {}
      },
      "source": [
        "from sklearn.model_selection import train_test_split\n",
        "X_train, X_test , y_train, y_test = train_test_split(X, y , test_size = 0.20)"
      ],
      "execution_count": 6,
      "outputs": []
    },
    {
      "cell_type": "code",
      "metadata": {
        "id": "2X5oabgUxwIL",
        "colab_type": "code",
        "colab": {}
      },
      "source": [
        ""
      ],
      "execution_count": 6,
      "outputs": []
    },
    {
      "cell_type": "code",
      "metadata": {
        "id": "xTql4I-zpmpV",
        "colab_type": "code",
        "colab": {}
      },
      "source": [
        "vocab_size = 1000\n",
        "oov_token = \"<OOV>\"\n",
        "max_length = 100\n",
        "padding_type = \"post\"\n",
        "trunction_type='post'"
      ],
      "execution_count": 7,
      "outputs": []
    },
    {
      "cell_type": "code",
      "metadata": {
        "id": "ERCfzb7Lhqej",
        "colab_type": "code",
        "colab": {}
      },
      "source": [
        "tokenizer = Tokenizer(num_words = vocab_size, oov_token=oov_token)\n",
        "tokenizer.fit_on_texts(X_train)\n",
        "word_index = tokenizer.word_index\n"
      ],
      "execution_count": 8,
      "outputs": []
    },
    {
      "cell_type": "code",
      "metadata": {
        "id": "LF97cdZpmEVe",
        "colab_type": "code",
        "colab": {}
      },
      "source": [
        "# word_index"
      ],
      "execution_count": 9,
      "outputs": []
    },
    {
      "cell_type": "code",
      "metadata": {
        "id": "ZMImC3SamDKx",
        "colab_type": "code",
        "colab": {}
      },
      "source": [
        "X_train_sequences = tokenizer.texts_to_sequences(X_train)\n",
        "X_train_padded = pad_sequences(X_train_sequences,maxlen=max_length, padding=padding_type, \n",
        "                       truncating=trunction_type)\n",
        "\n",
        "X_test_sequences = tokenizer.texts_to_sequences(X_test)\n",
        "X_test_padded = pad_sequences(X_test_sequences,maxlen=max_length, \n",
        "                               padding=padding_type, truncating=trunction_type)"
      ],
      "execution_count": 10,
      "outputs": []
    },
    {
      "cell_type": "code",
      "metadata": {
        "id": "fbJMsbxDb92H",
        "colab_type": "code",
        "colab": {
          "base_uri": "https://localhost:8080/",
          "height": 1000
        },
        "outputId": "833b4b34-aa94-4f80-c970-1040be32586f"
      },
      "source": [
        "X_train_sequences[10:15]"
      ],
      "execution_count": 11,
      "outputs": [
        {
          "output_type": "execute_result",
          "data": {
            "text/plain": [
              "[[609,\n",
              "  24,\n",
              "  74,\n",
              "  279,\n",
              "  610,\n",
              "  611,\n",
              "  612,\n",
              "  34,\n",
              "  20,\n",
              "  1,\n",
              "  5,\n",
              "  280,\n",
              "  195,\n",
              "  3,\n",
              "  147,\n",
              "  429,\n",
              "  2,\n",
              "  15,\n",
              "  430,\n",
              "  243,\n",
              "  244,\n",
              "  16,\n",
              "  1,\n",
              "  167,\n",
              "  18,\n",
              "  83,\n",
              "  12,\n",
              "  4,\n",
              "  431,\n",
              "  1,\n",
              "  1,\n",
              "  11,\n",
              "  1],\n",
              " [3, 46, 281, 1, 196, 2, 333, 95, 20, 613],\n",
              " [1,\n",
              "  1,\n",
              "  6,\n",
              "  4,\n",
              "  31,\n",
              "  1,\n",
              "  1,\n",
              "  614,\n",
              "  59,\n",
              "  72,\n",
              "  28,\n",
              "  31,\n",
              "  1,\n",
              "  33,\n",
              "  334,\n",
              "  3,\n",
              "  335,\n",
              "  168,\n",
              "  30,\n",
              "  432,\n",
              "  40,\n",
              "  4,\n",
              "  1,\n",
              "  336,\n",
              "  18,\n",
              "  1,\n",
              "  11,\n",
              "  79,\n",
              "  1,\n",
              "  16,\n",
              "  1,\n",
              "  3,\n",
              "  615],\n",
              " [616, 1, 77, 6, 31, 337, 3, 168, 51, 61, 10, 148, 4, 1, 1, 3, 24, 191, 118],\n",
              " [2, 15, 1, 617, 45, 433, 73, 5, 35, 618, 1, 245]]"
            ]
          },
          "metadata": {
            "tags": []
          },
          "execution_count": 11
        }
      ]
    },
    {
      "cell_type": "code",
      "metadata": {
        "id": "yZW3HAUub-Ej",
        "colab_type": "code",
        "colab": {
          "base_uri": "https://localhost:8080/",
          "height": 136
        },
        "outputId": "7bc5eb5f-2bf4-4058-ed00-33dfa0ab38d4"
      },
      "source": [
        "X_train_padded"
      ],
      "execution_count": 12,
      "outputs": [
        {
          "output_type": "execute_result",
          "data": {
            "text/plain": [
              "array([[  8, 106,   1, ...,   0,   0,   0],\n",
              "       [ 34,  20,   2, ...,   0,   0,   0],\n",
              "       [  9,   6,  30, ...,   0,   0,   0],\n",
              "       ...,\n",
              "       [118,  42,   7, ...,   0,   0,   0],\n",
              "       [ 76,  26,   4, ...,   0,   0,   0],\n",
              "       [397, 148,   7, ...,   0,   0,   0]], dtype=int32)"
            ]
          },
          "metadata": {
            "tags": []
          },
          "execution_count": 12
        }
      ]
    },
    {
      "cell_type": "code",
      "metadata": {
        "id": "NtTVK-kPcClJ",
        "colab_type": "code",
        "colab": {
          "base_uri": "https://localhost:8080/",
          "height": 34
        },
        "outputId": "eabcb635-393f-4708-bea7-f266cf1ee1ee"
      },
      "source": [
        "X_test_sequences[0]"
      ],
      "execution_count": 13,
      "outputs": [
        {
          "output_type": "execute_result",
          "data": {
            "text/plain": [
              "[2, 957, 1, 1, 1, 184, 46, 1, 73, 29, 1, 20, 1, 3, 77, 563, 1]"
            ]
          },
          "metadata": {
            "tags": []
          },
          "execution_count": 13
        }
      ]
    },
    {
      "cell_type": "code",
      "metadata": {
        "id": "izSQjk41cCoG",
        "colab_type": "code",
        "colab": {
          "base_uri": "https://localhost:8080/",
          "height": 136
        },
        "outputId": "7861b27f-021c-4982-872f-62232375193f"
      },
      "source": [
        "X_test_padded"
      ],
      "execution_count": 14,
      "outputs": [
        {
          "output_type": "execute_result",
          "data": {
            "text/plain": [
              "array([[  2, 957,   1, ...,   0,   0,   0],\n",
              "       [ 49,   6,  21, ...,   0,   0,   0],\n",
              "       [  8, 176,   7, ...,   0,   0,   0],\n",
              "       ...,\n",
              "       [ 18,   8, 154, ...,   0,   0,   0],\n",
              "       [ 19,  80, 161, ...,   0,   0,   0],\n",
              "       [  7,   6, 395, ...,   0,   0,   0]], dtype=int32)"
            ]
          },
          "metadata": {
            "tags": []
          },
          "execution_count": 14
        }
      ]
    },
    {
      "cell_type": "code",
      "metadata": {
        "id": "9kP30vm1QAln",
        "colab_type": "code",
        "colab": {
          "base_uri": "https://localhost:8080/",
          "height": 34
        },
        "outputId": "718d5c7d-ee18-49ee-bd7d-85aae8a7f973"
      },
      "source": [
        "embeddings_index = {}\n",
        "f = open('glove.6B.100d.txt')\n",
        "for line in f:\n",
        "    values = line.split()\n",
        "    word = values[0]\n",
        "    coefs = np.asarray(values[1:], dtype='float32')\n",
        "    embeddings_index[word] = coefs\n",
        "f.close()\n",
        "\n",
        "print('Found %s word vectors.' % len(embeddings_index))"
      ],
      "execution_count": 16,
      "outputs": [
        {
          "output_type": "stream",
          "text": [
            "Found 80570 word vectors.\n"
          ],
          "name": "stdout"
        }
      ]
    },
    {
      "cell_type": "code",
      "metadata": {
        "id": "Vx7DaTTdv0Y5",
        "colab_type": "code",
        "colab": {
          "base_uri": "https://localhost:8080/",
          "height": 374
        },
        "outputId": "adff06c3-816b-45c2-a1b5-1186d58dbb96"
      },
      "source": [
        "embeddings_index['attention']"
      ],
      "execution_count": 17,
      "outputs": [
        {
          "output_type": "execute_result",
          "data": {
            "text/plain": [
              "array([-3.3414e-01,  4.6667e-01,  5.3744e-01,  5.7743e-02,  2.9642e-01,\n",
              "        2.5224e-01, -6.5586e-01, -4.1668e-01,  2.1959e-01, -4.9413e-01,\n",
              "       -2.1816e-01, -9.0227e-02, -3.5179e-02, -2.7279e-01, -1.2343e-01,\n",
              "        1.6808e-01, -5.0623e-01, -4.0497e-01, -1.6763e-01,  4.9066e-01,\n",
              "       -8.8020e-02, -1.2339e-01, -3.8436e-01, -2.7766e-01, -1.3403e-01,\n",
              "        1.4342e-01, -2.9177e-01, -2.1146e-02,  5.2180e-01, -2.1213e-01,\n",
              "        3.0860e-02,  1.0402e-01, -1.6807e-01,  4.6170e-01, -5.4806e-01,\n",
              "       -6.6849e-02, -3.3180e-01,  3.7257e-01, -7.4962e-01,  6.2741e-01,\n",
              "       -4.9500e-01, -4.0996e-01, -1.4686e-01, -2.7166e-01, -7.7093e-02,\n",
              "       -2.8342e-01,  6.3663e-02, -1.5734e-01,  6.9649e-01, -9.6694e-01,\n",
              "        4.4510e-01, -2.4521e-01, -4.8447e-01,  1.1957e+00,  2.9929e-02,\n",
              "       -2.0425e+00, -2.8603e-01, -3.9043e-01,  1.2197e+00, -4.7760e-01,\n",
              "       -2.1191e-02,  9.3080e-01, -1.8173e-01, -7.5721e-02,  1.1242e+00,\n",
              "       -8.2276e-02,  5.7149e-02, -2.3585e-01,  3.5901e-01,  6.9223e-01,\n",
              "        3.0860e-02, -2.6091e-01, -3.0284e-01, -3.9094e-01,  2.1887e-01,\n",
              "        3.7618e-01, -1.5990e-01, -2.7495e-01, -8.3322e-01, -1.7576e-01,\n",
              "        5.7404e-01, -3.6228e-01,  2.2346e-01, -4.6975e-01, -1.4354e+00,\n",
              "       -2.4484e-01, -6.6958e-01, -5.4293e-03, -5.7340e-01, -6.3122e-01,\n",
              "        9.8732e-03, -1.9317e-01,  3.0410e-01, -2.6329e-01, -1.0366e-03,\n",
              "        3.6515e-01, -9.3829e-02, -6.7265e-02,  5.9425e-01,  6.7652e-01],\n",
              "      dtype=float32)"
            ]
          },
          "metadata": {
            "tags": []
          },
          "execution_count": 17
        }
      ]
    },
    {
      "cell_type": "code",
      "metadata": {
        "id": "QR2aGM6gQTHf",
        "colab_type": "code",
        "colab": {}
      },
      "source": [
        "embedding_matrix = np.zeros((len(word_index) + 1, max_length))\n",
        "for word, i in word_index.items():\n",
        "    embedding_vector = embeddings_index.get(word)\n",
        "    if embedding_vector is not None:\n",
        "        # words not found in embedding index will be all-zeros.\n",
        "        embedding_matrix[i] = embedding_vector"
      ],
      "execution_count": 18,
      "outputs": []
    },
    {
      "cell_type": "code",
      "metadata": {
        "id": "euSYUyekvRVt",
        "colab_type": "code",
        "colab": {
          "base_uri": "https://localhost:8080/",
          "height": 357
        },
        "outputId": "2a21d922-3fe9-4e37-9b85-563c7be113e9"
      },
      "source": [
        "embedding_matrix[20]"
      ],
      "execution_count": 19,
      "outputs": [
        {
          "output_type": "execute_result",
          "data": {
            "text/plain": [
              "array([-0.51533002,  0.83186001,  0.22457001, -0.73865002,  0.18718   ,\n",
              "        0.26021001, -0.42563999,  0.67120999, -0.31084001, -0.61274999,\n",
              "        0.089526  , -0.24011   ,  1.18780005,  0.67609   , -0.022885  ,\n",
              "       -0.92532998,  0.071174  ,  0.38837001, -0.42923999,  0.37143999,\n",
              "        0.32670999,  0.43141001,  0.87494999,  0.34009001, -0.23188999,\n",
              "       -0.41144001,  0.49061   , -0.32905999, -0.49109   , -0.18988   ,\n",
              "        0.33408001, -0.21245   , -0.38385999, -0.080547  ,  1.11609995,\n",
              "        0.23616999,  0.31332999,  0.49285999,  0.1       , -0.15131   ,\n",
              "       -0.14176001, -0.2802    , -0.2388    , -0.35486001,  0.18282001,\n",
              "       -0.19134   ,  0.60544002,  0.074573  , -0.20731001, -0.60965002,\n",
              "        0.19908001, -0.57024002, -0.17427   ,  1.44190001, -0.25018999,\n",
              "       -1.86479998,  0.41670999, -0.24607   ,  1.50100005,  0.87414998,\n",
              "       -0.67135   ,  1.27620006, -0.2721    ,  0.17583001,  1.22420001,\n",
              "        0.28242001,  0.62374997,  0.63950998,  0.36914   , -0.84676999,\n",
              "       -0.32269999, -0.67151999, -0.19634999, -0.40788999, -0.20965999,\n",
              "       -0.19622999,  0.041885  ,  0.53966999, -1.11049998, -0.39515001,\n",
              "        0.66589999, -0.233     , -1.08200002,  0.046465  , -2.09929991,\n",
              "       -0.28492999,  0.080025  , -0.12963   , -0.30011001, -0.46764001,\n",
              "       -0.81831002, -0.048509  , -0.32233   , -0.32012999, -1.1207    ,\n",
              "       -0.056788  , -0.73004001, -1.20239997,  1.13039994,  0.3479    ])"
            ]
          },
          "metadata": {
            "tags": []
          },
          "execution_count": 19
        }
      ]
    },
    {
      "cell_type": "code",
      "metadata": {
        "id": "rDG-onMyQViz",
        "colab_type": "code",
        "colab": {}
      },
      "source": [
        "embedding_layer = Embedding(len(word_index) + 1,\n",
        "                            max_length,\n",
        "                            weights=[embedding_matrix],\n",
        "                            input_length=max_length,\n",
        "                            trainable=False)"
      ],
      "execution_count": 20,
      "outputs": []
    },
    {
      "cell_type": "code",
      "metadata": {
        "id": "UQaCDL_CRPu8",
        "colab_type": "code",
        "colab": {}
      },
      "source": [
        "embedding_dim = 16\n",
        "input_length = 100"
      ],
      "execution_count": 21,
      "outputs": []
    },
    {
      "cell_type": "code",
      "metadata": {
        "id": "VR-VtXydf_S3",
        "colab_type": "code",
        "colab": {
          "base_uri": "https://localhost:8080/",
          "height": 323
        },
        "outputId": "34843cfd-dbc7-4787-bfc2-e4b024245baa"
      },
      "source": [
        "model = Sequential([\n",
        "    embedding_layer,\n",
        "  Bidirectional(LSTM(embedding_dim, return_sequences=True)),\n",
        "  Bidirectional(LSTM(embedding_dim,)),\n",
        "  Dense(6, activation='relu'),\n",
        "  Dense(1, activation='sigmoid')\n",
        "])\n",
        "model.compile(loss='binary_crossentropy',optimizer='adam',metrics=['accuracy'])\n",
        "model.summary()"
      ],
      "execution_count": 22,
      "outputs": [
        {
          "output_type": "stream",
          "text": [
            "Model: \"sequential\"\n",
            "_________________________________________________________________\n",
            "Layer (type)                 Output Shape              Param #   \n",
            "=================================================================\n",
            "embedding (Embedding)        (None, 100, 100)          273100    \n",
            "_________________________________________________________________\n",
            "bidirectional (Bidirectional (None, 100, 32)           14976     \n",
            "_________________________________________________________________\n",
            "bidirectional_1 (Bidirection (None, 32)                6272      \n",
            "_________________________________________________________________\n",
            "dense (Dense)                (None, 6)                 198       \n",
            "_________________________________________________________________\n",
            "dense_1 (Dense)              (None, 1)                 7         \n",
            "=================================================================\n",
            "Total params: 294,553\n",
            "Trainable params: 21,453\n",
            "Non-trainable params: 273,100\n",
            "_________________________________________________________________\n"
          ],
          "name": "stdout"
        }
      ]
    },
    {
      "cell_type": "code",
      "metadata": {
        "id": "y0WWj1auf_S7",
        "colab_type": "code",
        "colab": {
          "base_uri": "https://localhost:8080/",
          "height": 255
        },
        "outputId": "6f838bd9-bb5a-46d9-fdf9-dc22d8401c12"
      },
      "source": [
        "num_epochs = 7\n",
        "from keras.callbacks import EarlyStopping\n",
        "# callback = EarlyStopping(monitor='val_loss', mode='min', verbose=1, patience=25)\n",
        "history = model.fit(X_train_padded, y_train, epochs=num_epochs, validation_data=(X_test_padded, y_test))"
      ],
      "execution_count": 23,
      "outputs": [
        {
          "output_type": "stream",
          "text": [
            "Epoch 1/7\n",
            "25/25 [==============================] - 4s 159ms/step - loss: 0.6873 - accuracy: 0.5475 - val_loss: 0.6814 - val_accuracy: 0.5950\n",
            "Epoch 2/7\n",
            "25/25 [==============================] - 2s 98ms/step - loss: 0.6642 - accuracy: 0.6325 - val_loss: 0.6618 - val_accuracy: 0.6600\n",
            "Epoch 3/7\n",
            "25/25 [==============================] - 2s 98ms/step - loss: 0.6311 - accuracy: 0.6662 - val_loss: 0.6344 - val_accuracy: 0.6550\n",
            "Epoch 4/7\n",
            "25/25 [==============================] - 2s 98ms/step - loss: 0.5681 - accuracy: 0.7275 - val_loss: 0.5480 - val_accuracy: 0.7250\n",
            "Epoch 5/7\n",
            "25/25 [==============================] - 2s 98ms/step - loss: 0.5459 - accuracy: 0.7212 - val_loss: 0.5161 - val_accuracy: 0.7450\n",
            "Epoch 6/7\n",
            "25/25 [==============================] - 2s 99ms/step - loss: 0.4922 - accuracy: 0.7812 - val_loss: 0.4973 - val_accuracy: 0.8050\n",
            "Epoch 7/7\n",
            "25/25 [==============================] - 2s 95ms/step - loss: 0.4511 - accuracy: 0.7987 - val_loss: 0.4510 - val_accuracy: 0.7950\n"
          ],
          "name": "stdout"
        }
      ]
    },
    {
      "cell_type": "code",
      "metadata": {
        "id": "-yy1afvOf_TF",
        "colab_type": "code",
        "colab": {
          "base_uri": "https://localhost:8080/",
          "height": 295
        },
        "outputId": "49b2e901-4445-4826-f2bb-d339557cc96d"
      },
      "source": [
        "import matplotlib.pyplot as plt\n",
        "plt.plot(history.history['accuracy'])\n",
        "plt.plot(history.history['val_accuracy'])\n",
        "plt.title('model accuracy')\n",
        "plt.ylabel('accuracy')\n",
        "plt.xlabel('epoch')\n",
        "plt.legend(['train', 'val'], loc='upper left')\n",
        "plt.show()"
      ],
      "execution_count": 24,
      "outputs": [
        {
          "output_type": "display_data",
          "data": {
            "image/png": "[encoded data removed]",
            "text/plain": [
              "<Figure size 432x288 with 1 Axes>"
            ]
          },
          "metadata": {
            "tags": [],
            "needs_background": "light"
          }
        }
      ]
    },
    {
      "cell_type": "code",
      "metadata": {
        "id": "jye3QRojf_TK",
        "colab_type": "code",
        "colab": {
          "base_uri": "https://localhost:8080/",
          "height": 295
        },
        "outputId": "11bf023b-2dd2-4690-e132-b1b50bcc766a"
      },
      "source": [
        "import matplotlib.pyplot as plt\n",
        "plt.plot(history.history['loss'])\n",
        "plt.plot(history.history['val_loss'])\n",
        "plt.title('model loss')\n",
        "plt.ylabel('loss')\n",
        "plt.xlabel('epoch')\n",
        "plt.legend(['train', 'val'], loc='upper left')\n",
        "plt.show()"
      ],
      "execution_count": 25,
      "outputs": [
        {
          "output_type": "display_data",
          "data": {
            "image/png": "[encoded data removed]",
            "text/plain": [
              "<Figure size 432x288 with 1 Axes>"
            ]
          },
          "metadata": {
            "tags": [],
            "needs_background": "light"
          }
        }
      ]
    },
    {
      "cell_type": "code",
      "metadata": {
        "id": "ti5rnRlKtbqT",
        "colab_type": "code",
        "colab": {}
      },
      "source": [
        ""
      ],
      "execution_count": 25,
      "outputs": []
    }
  ]
}